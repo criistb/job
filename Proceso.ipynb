{
 "cells": [
  {
   "cell_type": "code",
   "execution_count": 52,
   "id": "8d9b03e4-077c-4e16-824f-aeedf6eba527",
   "metadata": {},
   "outputs": [],
   "source": [
    "import pandas as pd\n",
    "import numpy as np\n",
    "import openpyxl"
   ]
  },
  {
   "cell_type": "code",
   "execution_count": 4,
   "id": "500b7905-0f6a-4551-9262-bb868177a984",
   "metadata": {},
   "outputs": [
    {
     "name": "stdout",
     "output_type": "stream",
     "text": [
      "Collecting openpyxl\n",
      "  Downloading openpyxl-3.0.10-py2.py3-none-any.whl (242 kB)\n",
      "\u001b[2K     \u001b[38;2;114;156;31m━━━━━━━━━━━━━━━━━━━━━━━━━━━━━━━━━━━━━━━\u001b[0m \u001b[32m242.1/242.1 kB\u001b[0m \u001b[31m1.2 MB/s\u001b[0m eta \u001b[36m0:00:00\u001b[0m[31m1.4 MB/s\u001b[0m eta \u001b[36m0:00:01\u001b[0m\n",
      "\u001b[?25hCollecting et-xmlfile\n",
      "  Downloading et_xmlfile-1.1.0-py3-none-any.whl (4.7 kB)\n",
      "Installing collected packages: et-xmlfile, openpyxl\n",
      "Successfully installed et-xmlfile-1.1.0 openpyxl-3.0.10\n"
     ]
    }
   ],
   "source": [
    "!pip install openpyxl"
   ]
  },
  {
   "cell_type": "code",
   "execution_count": 7,
   "id": "c138fffc-68c3-4386-93f9-b17e5b802642",
   "metadata": {},
   "outputs": [],
   "source": [
    "df = pd.read_excel(\"01 MDB 2018.xlsx\", sheet_name=\"MASTER DATA BASES\")"
   ]
  },
  {
   "cell_type": "code",
   "execution_count": 114,
   "id": "8be681d9-1104-4f5d-bc77-61bf36999238",
   "metadata": {},
   "outputs": [],
   "source": [
    "master = df.copy()\n"
   ]
  },
  {
   "cell_type": "code",
   "execution_count": 115,
   "id": "e76138bc-dca7-4d3e-a992-ee8759307346",
   "metadata": {
    "tags": []
   },
   "outputs": [],
   "source": [
    "master[['Pos Emp Group','Employee Group']] = master[['Pos Emp Group','Employee Group']].replace(\n",
    "    {'EMPLOYEE':'Colaborador','TEMPORARY':'Temporal','INTERN':'Aprendiz','CO-OP':'Aprendiz','APPRENTICE':'APRENDIZ'})\n",
    "\n",
    "master[['Emp Gender']] = master[['Emp Gender']].replace({'F':'Mujeres','M':'Hombres'})\n",
    "\n",
    "master[['Entity']] = master[['Entity']].replace('CEM-SUMMA','CEM')\n",
    "\n",
    "cap = ['Parent Position','Job Level', 'Job', 'Division', 'Business Unit', 'Company', 'Position', 'Employee Subgroup']\n",
    "\n",
    "for x in cap:\n",
    "    master[x] = master[x].str.capitalize()\n",
    "    \n",
    "master = master.rename(columns={'Entity':'entitytemp'})\n",
    "\n",
    "master['Entidad'] = np.where(master.entitytemp == 'CEM','Cementos',\n",
    "                            np.where(master.entitytemp == 'GRA','Grupo Argos',\n",
    "                                     np.where(master.entitytemp == 'ODI','Odinsa',\n",
    "                                              np.where(master.entitytemp == 'CLS','Celsia',\n",
    "                                                       np.where(master.entitytemp == 'SUMMA','Summa',\"\")))))\n",
    "\n",
    "cols = [\"Month\", \"Entidad\", \"Pos Code\", \"Position\", \"Pos Emp Group\", \n",
    "        \"Country\", \"Company Code\", \"Company\", \"Business Unit Code\", \"Business Unit\",\n",
    "        \"Division Code\", \"Division\", \"Department Code\", \"Department\", \"Job Code\", \"Job\", \"Grade\", \"Salary Grade\", \"Job Level\",\n",
    "        \"Unioniosed\", \"Parent Position Code\", \"Parent Position\",\"Hr First Name\", \"Hr Last Name\", \"Hr Manager Pos Code\",\n",
    "        \"Person Id\",\"Payroll Id 1\", \"Payroll Id 2\", \"User Id\", \"Employee Status\", \"Employee Group\", \n",
    "        \"Emp Date Of Birth\", \"Emp Hire Date\", \"Emp Original Start Date\", \"Emp Gender\", \n",
    "        \"Emp Marital Status\", \"Location Code\",\"Union 1\",\"Union 2\", \"Emp First Name\",\"Emp Last Name\"]\n",
    "\n",
    "master.drop(columns=[col for col in master if col not in cols], inplace=True)\n",
    "\n",
    "master = master[cols]\n",
    "\n",
    "cols = [\"Entidad\", \"Position\", \"Country\", \"Company\", \"Business Unit\", \"Division\",\n",
    "\"Job\", \"Parent Position\", \"Payroll Id 1\", \"Payroll Id 2\", \"User Id\", \"Emp Date Of Birth\",\n",
    "\"Emp Gender\", \"Emp Marital Status\", \"Grade\", \"Job Level\"]\n",
    "\n"
   ]
  },
  {
   "cell_type": "code",
   "execution_count": 116,
   "id": "064cd287-43a2-4fe8-b2a1-370555d1b368",
   "metadata": {},
   "outputs": [],
   "source": [
    "#Master\n",
    "\n",
    "masterof = master.copy()\n",
    "\n",
    "masterof = masterof.drop(columns=[col for col in masterof if col in cols])\n",
    "\n",
    "masterof['HR Manager'] = masterof['Hr First Name'].str.cat(masterof['Hr Last Name'])\n",
    "\n",
    "masterof.drop(columns=['Hr First Name','Hr Last Name'], inplace=True)\n",
    "\n",
    "cols = [\"Month\", \"Pos Code\", \"Pos Emp Group\", \"Company Code\", \"Business Unit Code\",\n",
    "\"Division Code\", \"Department Code\", \"Department\", \"Grouping Process\", \"Job Code\",\n",
    "\"Salary Grade\", \"Unioniosed\", \"Parent Position Code\", \"HR Manager\", \n",
    "\"Hr Manager Pos Code\", \"Person Id\", \"Employee Status\", \"Employee Subgroup\", \n",
    "\"Employee Group\", \"Emp Hire Date\", \"Contract Type\", \"Work Relationship\", \"Benefits Type\", \n",
    "\"Emp Original Start Date\", \"Location Code\", \"Union 1\", \"Union 2\"]\n",
    "\n",
    "masterof = masterof.drop(columns=[col for col in masterof if col not in cols])"
   ]
  },
  {
   "cell_type": "code",
   "execution_count": 117,
   "id": "675aa817-c209-4e58-a620-8f7f4ee9cbd2",
   "metadata": {},
   "outputs": [],
   "source": [
    "#Personas\n",
    "\n",
    "mdbpersonas = master.copy()\n",
    "\n",
    "cols = [\"Month\", \"Person Id\", \"Payroll Id 1\", \"Payroll Id 2\", \"User Id\", \"Emp First Name\",\n",
    "       \"Emp Last Name\", \"Emp Date Of Birth\", \"Emp Hire Date\", \"Emp Original Start Date\",\n",
    "       \"Emp Gender\", \"Emp Marital Status\"]\n",
    "\n",
    "mdbpersonas = mdbpersonas.drop(columns=[col for col in mdbpersonas if col not in cols])\n",
    "\n",
    "mdbpersonas = mdbpersonas.dropna(subset = 'Person Id')\n",
    "\n",
    "mdbpersonas = mdbpersonas.sort_values('Month', ascending=False)\n",
    "\n",
    "mdbpersonas = mdbpersonas.drop_duplicates(subset='Person Id')\n",
    "\n",
    "mdbpersonas = mdbpersonas.drop(columns='Month')\n",
    "\n",
    "cap = ['Emp Marital Status','Emp First Name', 'Emp Last Name']\n",
    "\n",
    "for x in cap:\n",
    "    mdbpersonas[x] = mdbpersonas[x].str.capitalize()"
   ]
  },
  {
   "cell_type": "code",
   "execution_count": 118,
   "id": "adaeaeaa-4b6b-4ff4-b838-e1d5492b6fef",
   "metadata": {},
   "outputs": [],
   "source": [
    "#Compañia\n",
    "\n",
    "mdbcompany = master.copy()\n",
    "\n",
    "cols = [\"Month\", \"Entidad\", \"Country\", \"Company Code\", \"Company\"]\n",
    "\n",
    "mdbcompany = mdbcompany.drop(columns=[col for col in mdbcompany if col not in cols])\n",
    "\n",
    "mdbcompany = mdbcompany.sort_values('Month', ascending=False)\n",
    "\n",
    "mdbcompany = mdbcompany.drop_duplicates(subset='Company Code')\n",
    "\n",
    "mdbcompany = mdbcompany.drop(columns='Month')\n",
    "\n",
    "cols = ['Company Code','Entidad', 'Country', 'Company']\n",
    "\n",
    "mdbcompany = mdbcompany[cols]\n",
    "\n"
   ]
  },
  {
   "cell_type": "code",
   "execution_count": 119,
   "id": "885f726b-25e9-4b59-ab10-d5660f103a18",
   "metadata": {},
   "outputs": [],
   "source": [
    "#Vicepresidencia\n",
    "\n",
    "mdbvice = master.copy()\n",
    "\n",
    "cols = [\"Month\", \"Business Unit Code\", \"Business Unit\"]\n",
    "\n",
    "mdbvice = mdbvice.drop(columns=[col for col in mdbvice if col not in cols])\n",
    "\n",
    "mdbvice = mdbvice.sort_values('Month', ascending=False)\n",
    "\n",
    "mdbvice = mdbvice.drop_duplicates(subset='Business Unit Code')\n",
    "\n",
    "mdbvice = mdbvice.drop(columns='Month')\n"
   ]
  },
  {
   "cell_type": "code",
   "execution_count": 120,
   "id": "ff0378d2-5787-4d28-afb9-c8ae769ccbf8",
   "metadata": {},
   "outputs": [],
   "source": [
    "#Division\n",
    "\n",
    "mdiv = master.copy()\n",
    "\n",
    "cols = [\"Month\", \"Division Code\", \"Division\"]\n",
    "\n",
    "mdiv = mdiv.drop(columns=[col for col in mdiv if col not in cols])\n",
    "\n",
    "mdiv = mdiv.sort_values('Month', ascending=False)\n",
    "\n",
    "mdiv = mdiv.drop_duplicates(subset='Division Code')\n",
    "\n",
    "mdiv = mdiv.drop(columns='Month')"
   ]
  },
  {
   "cell_type": "code",
   "execution_count": 121,
   "id": "b10702eb-67f8-448f-998c-04d5b6f4d545",
   "metadata": {},
   "outputs": [],
   "source": [
    "#Job code\n",
    "\n",
    "mdbjob = master.copy()\n",
    "\n",
    "cols = [\"Month\", \"Job Code\", \"Job\"]\n",
    "\n",
    "mdbjob = mdbjob.drop(columns=[col for col in mdbjob if col not in cols])\n",
    "\n",
    "mdbjob = mdbjob.sort_values('Month', ascending=False)\n",
    "\n",
    "mdbjob = mdbjob.drop_duplicates(subset='Job Code')\n",
    "\n",
    "mdbjob = mdbjob.drop(columns='Month')"
   ]
  },
  {
   "cell_type": "code",
   "execution_count": 122,
   "id": "4fb965a4-1093-4a30-84fc-ebc4559b6d2c",
   "metadata": {},
   "outputs": [],
   "source": [
    "#Department\n",
    "\n",
    "mddep = master.copy()\n",
    "\n",
    "cols = [\"Month\", \"Department Code\", \"Department\"]\n",
    "\n",
    "mddep= mddep.drop(columns=[col for col in mddep if col not in cols])\n",
    "\n",
    "mddep = mddep.sort_values('Month', ascending=False)\n",
    "\n",
    "mddep = mddep.drop_duplicates(subset='Department Code')\n",
    "\n",
    "mddep = mddep.drop(columns='Month')"
   ]
  },
  {
   "cell_type": "code",
   "execution_count": 173,
   "id": "ddb0c6c8-846d-432b-9ab1-dcc298084a04",
   "metadata": {},
   "outputs": [],
   "source": [
    "with pd.ExcelWriter('lol.xlsx', engine='xlsxwriter') as writer:\n",
    "    masterof\n",
    "    mdbpersonas.to_excel(writer, sheet_name=sheets[0],index=False)\n",
    "    mdbcompany.to_excel(writer, sheet_name=sheets[1],index=False)\n",
    "    mdbvice.to_excel(writer, sheet_name=sheets[2],index=False)\n",
    "    mdiv.to_excel(writer, sheet_name=sheets[3],index=False)\n",
    "    mdbjob.to_excel(writer, sheet_name=sheets[4],index=False)\n",
    "    mddep.to_excel(writer, sheet_name=sheets[5],index=False)\n",
    "\n"
   ]
  },
  {
   "cell_type": "code",
   "execution_count": 170,
   "id": "e6dbffaf-6794-4d87-9da5-b8dce755e3eb",
   "metadata": {},
   "outputs": [],
   "source": [
    "dfs = [masterof,mdbmdbpersonas,mdbcompany,mdbvice,mdiv,mdbjob,mddep]\n",
    "sheets = [\"Hoja2\",\"Hoja3\",\"Hoja4\",\"Hoja5\",\"Hoja6\",\"Hoja1\",\"Hoja7\"]\n",
    "names = ['_01_Master','_02_Personas','_03_Company','_04_Vicepresidencia','_05_Division','_06_Job_Code','_07_Department']"
   ]
  },
  {
   "cell_type": "code",
   "execution_count": 183,
   "id": "7f7eb576-a3d7-482e-9eb8-9e41a4b7d166",
   "metadata": {},
   "outputs": [],
   "source": [
    "wb = openpyxl.load_workbook('lol.xlsx')\n",
    "for x,y,z in zip(dfs,sheets,names):\n",
    "            tab = openpyxl.worksheet.table.Table(displayName=z, ref=f'A1:{chr(len(x.columns)+64)}{len(x)+1}')\n",
    "            wb[y].add_table(tab)\n",
    "        \n",
    "wb.save('Query.xlsx')"
   ]
  }
 ],
 "metadata": {
  "kernelspec": {
   "display_name": "Python 3 (ipykernel)",
   "language": "python",
   "name": "python3"
  },
  "language_info": {
   "codemirror_mode": {
    "name": "ipython",
    "version": 3
   },
   "file_extension": ".py",
   "mimetype": "text/x-python",
   "name": "python",
   "nbconvert_exporter": "python",
   "pygments_lexer": "ipython3",
   "version": "3.9.12"
  }
 },
 "nbformat": 4,
 "nbformat_minor": 5
}
